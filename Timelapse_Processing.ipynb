{
 "cells": [
  {
   "cell_type": "code",
   "execution_count": 8,
   "id": "otherwise-leone",
   "metadata": {},
   "outputs": [],
   "source": [
    "import numpy as np\n",
    "import tensorflow as tf\n",
    "import cv2\n",
    "import os\n",
    "import itertools\n",
    "import math\n",
    "from os import listdir\n",
    "from os.path import isfile, join\n",
    "import matplotlib.pyplot as plt\n",
    "import datetime"
   ]
  },
  {
   "cell_type": "markdown",
   "id": "least-ceremony",
   "metadata": {},
   "source": [
    "### Enumerate Input Image Files"
   ]
  },
  {
   "cell_type": "code",
   "execution_count": 9,
   "id": "sudden-outreach",
   "metadata": {},
   "outputs": [],
   "source": [
    "#base_dir = '/media/MassStorage_WD/inbox/'\n",
    "base_dir = '/media/MassStorage_WD/albums/'\n",
    "capture_dir = '05-08-22_SunsetTimelapse/'\n",
    "path = base_dir + capture_dir\n",
    "\n",
    "frame_files = [f for f in listdir(path) if isfile(join(path, f))]\n",
    "frame_files.sort()\n",
    "\n",
    "def calc_duration(fps, num_frames):\n",
    "    dur_secs = num_frames/fps\n",
    "    res = datetime.timedelta(seconds =dur_secs)\n",
    "    print(res)"
   ]
  },
  {
   "cell_type": "code",
   "execution_count": 10,
   "id": "outside-accident",
   "metadata": {},
   "outputs": [
    {
     "name": "stdout",
     "output_type": "stream",
     "text": [
      "0:00:26.250000\n"
     ]
    }
   ],
   "source": [
    "calc_duration(fps=24, num_frames=len(frame_files))"
   ]
  },
  {
   "cell_type": "markdown",
   "id": "provincial-equality",
   "metadata": {},
   "source": [
    "### Make a graph of change over time"
   ]
  },
  {
   "cell_type": "code",
   "execution_count": 5,
   "id": "studied-construction",
   "metadata": {},
   "outputs": [
    {
     "name": "stdout",
     "output_type": "stream",
     "text": [
      "0.9992217898832685455\r"
     ]
    }
   ],
   "source": [
    "diffs = []\n",
    "diffs_smooth = []\n",
    "diff_smooth = None\n",
    "alpha = 0.25\n",
    "img_last = None\n",
    "\n",
    "for idx,file in enumerate(frame_files):\n",
    "    filepath = path + file\n",
    "    print(idx/len(frame_files), end='\\r')\n",
    "    img = cv2.imread(filepath).astype(np.float32)/255.0\n",
    "    img = cv2.resize(img, (1080, 1920))\n",
    "    if(img_last is not None):\n",
    "        diffs += [np.sum(np.abs(img_last - img))]\n",
    "        if(diff_smooth is None):\n",
    "            diff_smooth = diffs[-1] \n",
    "        diff_smooth = diff_smooth*(1-alpha) + diffs[-1]*(alpha)\n",
    "        diffs_smooth += [diff_smooth]\n",
    "        \n",
    "    img_last = img"
   ]
  },
  {
   "cell_type": "code",
   "execution_count": 6,
   "id": "thick-gilbert",
   "metadata": {},
   "outputs": [
    {
     "name": "stdout",
     "output_type": "stream",
     "text": [
      "13058.386963867188 (1282,)\n"
     ]
    },
    {
     "data": {
      "image/png": "[encoded data removed]",
      "text/plain": [
       "<Figure size 432x288 with 1 Axes>"
      ]
     },
     "metadata": {
      "needs_background": "light"
     },
     "output_type": "display_data"
    }
   ],
   "source": [
    "diffs = np.array(diffs)\n",
    "# Generate the speed stats\n",
    "vel_mean = np.mean(diffs)\n",
    "vel_std = np.std(diffs)\n",
    "\n",
    "dist_norm = (np.array(diffs)-vel_mean)/vel_std\n",
    "\n",
    "outlier_prop = 0.1\n",
    "\n",
    "outlier_limit = np.percentile(diffs, outlier_prop)\n",
    "\n",
    "diffs_clean = diffs[diffs > outlier_limit]\n",
    "\n",
    "print(outlier_limit, diffs_clean.shape)\n",
    "plt.plot(diffs_clean)\n",
    "plt.show()"
   ]
  },
  {
   "cell_type": "code",
   "execution_count": null,
   "id": "perceived-slovakia",
   "metadata": {},
   "outputs": [],
   "source": []
  },
  {
   "cell_type": "code",
   "execution_count": null,
   "id": "ordered-compression",
   "metadata": {},
   "outputs": [],
   "source": []
  },
  {
   "cell_type": "markdown",
   "id": "disturbed-infection",
   "metadata": {},
   "source": [
    "## Plot histogram of deltas"
   ]
  },
  {
   "cell_type": "code",
   "execution_count": 11,
   "id": "juvenile-color",
   "metadata": {},
   "outputs": [
    {
     "ename": "NameError",
     "evalue": "name 'dist_norm' is not defined",
     "output_type": "error",
     "traceback": [
      "\u001b[0;31m---------------------------------------------------------------------------\u001b[0m",
      "\u001b[0;31mNameError\u001b[0m                                 Traceback (most recent call last)",
      "\u001b[0;32m<ipython-input-11-0c5de057e11a>\u001b[0m in \u001b[0;36m<module>\u001b[0;34m\u001b[0m\n\u001b[1;32m      5\u001b[0m \u001b[0;34m\u001b[0m\u001b[0m\n\u001b[1;32m      6\u001b[0m \u001b[0mplt\u001b[0m\u001b[0;34m.\u001b[0m\u001b[0myscale\u001b[0m\u001b[0;34m(\u001b[0m\u001b[0;34m'log'\u001b[0m\u001b[0;34m)\u001b[0m\u001b[0;34m\u001b[0m\u001b[0;34m\u001b[0m\u001b[0m\n\u001b[0;32m----> 7\u001b[0;31m \u001b[0mplt\u001b[0m\u001b[0;34m.\u001b[0m\u001b[0mhist\u001b[0m\u001b[0;34m(\u001b[0m\u001b[0mnp\u001b[0m\u001b[0;34m.\u001b[0m\u001b[0marray\u001b[0m\u001b[0;34m(\u001b[0m\u001b[0mdist_norm\u001b[0m\u001b[0;34m)\u001b[0m\u001b[0;34m,\u001b[0m \u001b[0mbins\u001b[0m\u001b[0;34m=\u001b[0m\u001b[0;36m100\u001b[0m\u001b[0;34m)\u001b[0m\u001b[0;34m\u001b[0m\u001b[0;34m\u001b[0m\u001b[0m\n\u001b[0m\u001b[1;32m      8\u001b[0m \u001b[0;34m\u001b[0m\u001b[0m\n\u001b[1;32m      9\u001b[0m \u001b[0mplt\u001b[0m\u001b[0;34m.\u001b[0m\u001b[0mshow\u001b[0m\u001b[0;34m(\u001b[0m\u001b[0;34m)\u001b[0m\u001b[0;34m\u001b[0m\u001b[0;34m\u001b[0m\u001b[0m\n",
      "\u001b[0;31mNameError\u001b[0m: name 'dist_norm' is not defined"
     ]
    },
    {
     "data": {
      "image/png": "[encoded data removed]",
      "text/plain": [
       "<Figure size 432x288 with 1 Axes>"
      ]
     },
     "metadata": {
      "needs_background": "light"
     },
     "output_type": "display_data"
    }
   ],
   "source": [
    "# Maximum frames squashed into 1 (speedup)\n",
    "max_vel_scaling = 10\n",
    "# Minimum speed \n",
    "min_vel_scaling = 1\n",
    "\n",
    "plt.yscale('log')\n",
    "plt.hist(np.array(dist_norm), bins=100)\n",
    "\n",
    "plt.show()"
   ]
  },
  {
   "cell_type": "markdown",
   "id": "union-conditioning",
   "metadata": {},
   "source": [
    "## Process Images"
   ]
  },
  {
   "cell_type": "code",
   "execution_count": 44,
   "id": "trained-blackberry",
   "metadata": {},
   "outputs": [
    {
     "name": "stdout",
     "output_type": "stream",
     "text": [
      "3.015873015873016 %%%\r"
     ]
    },
    {
     "ename": "KeyboardInterrupt",
     "evalue": "",
     "output_type": "error",
     "traceback": [
      "\u001b[0;31m---------------------------------------------------------------------------\u001b[0m",
      "\u001b[0;31mKeyboardInterrupt\u001b[0m                         Traceback (most recent call last)",
      "\u001b[0;32m<ipython-input-44-af60f0e3df0b>\u001b[0m in \u001b[0;36m<module>\u001b[0;34m\u001b[0m\n\u001b[1;32m     38\u001b[0m     \u001b[0;31m# Read the image file\u001b[0m\u001b[0;34m\u001b[0m\u001b[0;34m\u001b[0m\u001b[0;34m\u001b[0m\u001b[0m\n\u001b[1;32m     39\u001b[0m     \u001b[0mfilepath\u001b[0m \u001b[0;34m=\u001b[0m \u001b[0mpath\u001b[0m \u001b[0;34m+\u001b[0m \u001b[0mfile\u001b[0m\u001b[0;34m\u001b[0m\u001b[0;34m\u001b[0m\u001b[0m\n\u001b[0;32m---> 40\u001b[0;31m     \u001b[0mimg\u001b[0m \u001b[0;34m=\u001b[0m \u001b[0mcv2\u001b[0m\u001b[0;34m.\u001b[0m\u001b[0mimread\u001b[0m\u001b[0;34m(\u001b[0m\u001b[0mfilepath\u001b[0m\u001b[0;34m)\u001b[0m\u001b[0;34m.\u001b[0m\u001b[0mastype\u001b[0m\u001b[0;34m(\u001b[0m\u001b[0mnp\u001b[0m\u001b[0;34m.\u001b[0m\u001b[0mfloat32\u001b[0m\u001b[0;34m)\u001b[0m\u001b[0;34m/\u001b[0m\u001b[0;36m255.0\u001b[0m\u001b[0;34m\u001b[0m\u001b[0;34m\u001b[0m\u001b[0m\n\u001b[0m\u001b[1;32m     41\u001b[0m     \u001b[0;31m# Crop it and resize\u001b[0m\u001b[0;34m\u001b[0m\u001b[0;34m\u001b[0m\u001b[0;34m\u001b[0m\u001b[0m\n\u001b[1;32m     42\u001b[0m     \u001b[0mimg\u001b[0m \u001b[0;34m=\u001b[0m \u001b[0mtf\u001b[0m\u001b[0;34m.\u001b[0m\u001b[0mimage\u001b[0m\u001b[0;34m.\u001b[0m\u001b[0mcentral_crop\u001b[0m\u001b[0;34m(\u001b[0m\u001b[0mimg\u001b[0m\u001b[0;34m,\u001b[0m \u001b[0mcrop_factor\u001b[0m\u001b[0;34m)\u001b[0m\u001b[0;34m\u001b[0m\u001b[0;34m\u001b[0m\u001b[0m\n",
      "\u001b[0;31mKeyboardInterrupt\u001b[0m: "
     ]
    }
   ],
   "source": [
    "fps = 24\n",
    "frame_0 = cv2.imread(path+frame_files[0])\n",
    "frame_width = int(1920*2)\n",
    "frame_height = int(1080*2)\n",
    "disp_scale = 0.2\n",
    "write_video = False\n",
    "\n",
    "if(write_video):\n",
    "    out = cv2.VideoWriter(path+'timelapse2.avi', \n",
    "                          cv2.VideoWriter_fourcc('M','J','P','G'), \n",
    "                          fps, \n",
    "                          (frame_width,frame_height))\n",
    "else:\n",
    "    out_dir = './processed_images/'\n",
    "\n",
    "# Generate video w/ zoom and dynamic time\n",
    "init_crop_scale = 1.00\n",
    "fin_crop_scale  = 0.50\n",
    "\n",
    "# Buffer settings\n",
    "mean_buff = []\n",
    "buff_len = 1\n",
    "\n",
    "def calc_crop_factor(idx, count):\n",
    "    return (init_crop_scale-fin_crop_scale)*idx/count+fin_crop_scale\n",
    "\n",
    "for idx,file in enumerate(frame_files):\n",
    "    print(100*idx/len(frame_files), '%', end='\\r')\n",
    "    \n",
    "    if(idx == 0):\n",
    "        crop_factor = calc_crop_factor(idx, len(frame_files))\n",
    "        \n",
    "    try: \n",
    "        velocity = diffs[idx]\n",
    "    except: \n",
    "        pass\n",
    "\n",
    "    # Read the image file\n",
    "    filepath = path + file\n",
    "    img = cv2.imread(filepath).astype(np.float32)/255.0\n",
    "    # Crop it and resize\n",
    "    img = tf.image.central_crop(img, crop_factor)\n",
    "\n",
    "    # Resize to display dimensions\n",
    "    img = tf.image.resize(img, (frame_height, frame_width))\n",
    "    \n",
    "    mean_buff += [img]\n",
    "    \n",
    "    if(len(mean_buff) >= buff_len):\n",
    "        img_out = tf.reduce_mean(tf.stack(mean_buff, axis=0), axis=0)\n",
    "        img_out = (img_out*255.0).numpy().astype(np.uint8)\n",
    "\n",
    "        if(write_video):\n",
    "            out.write(img_out)\n",
    "        else:\n",
    "            img_save_path = out_dir+file\n",
    "            ret = cv2.imwrite(img_save_path, img_out)\n",
    "            if(not ret):\n",
    "                print('ERROR: IMAGE SAVING FAILED', img_save_path, img_out.shape, img_out.dtype)\n",
    "                break\n",
    "        \n",
    "        # Recalc crop_factor\n",
    "        crop_factor = calc_crop_factor(idx, len(frame_files))\n",
    "        # Display\n",
    "        cv2.imshow('frame', cv2.resize(img_out, (int(disp_scale*img_out.shape[1]), int(disp_scale*img_out.shape[0]))))\n",
    "        cv2.waitKey(1)\n",
    "        \n",
    "        mean_buff = []\n",
    "\n",
    "if(write_video):\n",
    "    out.release()"
   ]
  },
  {
   "cell_type": "code",
   "execution_count": 94,
   "id": "oriental-borough",
   "metadata": {},
   "outputs": [],
   "source": [
    "out.release()"
   ]
  },
  {
   "cell_type": "code",
   "execution_count": 24,
   "id": "digital-military",
   "metadata": {},
   "outputs": [
    {
     "name": "stdout",
     "output_type": "stream",
     "text": [
      "~/Downloads/processed_images/DSC02174.png False\n"
     ]
    }
   ],
   "source": [
    "img_out = np.zeros((100, 200, 3), dtype=np.uint8)\n",
    "ret = cv2.imwrite(img_save_path, img_out)\n",
    "print(img_save_path, ret)"
   ]
  },
  {
   "cell_type": "code",
   "execution_count": 41,
   "id": "nominated-payday",
   "metadata": {},
   "outputs": [
    {
     "data": {
      "text/plain": [
       "106"
      ]
     },
     "execution_count": 41,
     "metadata": {},
     "output_type": "execute_result"
    }
   ],
   "source": [
    "disp_scale = 0.2\n",
    "cv2.imshow('frame', cv2.resize(img_out, (int(disp_scale*img_out.shape[0]), int(disp_scale*img_out.shape[1]))))\n",
    "cv2.waitKey(1)"
   ]
  },
  {
   "cell_type": "code",
   "execution_count": 27,
   "id": "guilty-animal",
   "metadata": {},
   "outputs": [
    {
     "data": {
      "text/plain": [
       "False"
      ]
     },
     "execution_count": 27,
     "metadata": {},
     "output_type": "execute_result"
    }
   ],
   "source": [
    "cv2.imwrite('~/test.png', np.zeros((100,200,3)).astype(np.uint8))"
   ]
  },
  {
   "cell_type": "code",
   "execution_count": null,
   "id": "informational-buddy",
   "metadata": {},
   "outputs": [],
   "source": [
    "# https://shotkit.com/f-stop-chart/\n",
    "def estimate_lux(img, shutter_speed, iso, fstop):\n",
    "    base_iso = 100\n",
    "    img_sum = tf.reduce_sum(img)\n",
    "    \n",
    "    shutter_speed*img_sum/iso\n",
    "    "
   ]
  },
  {
   "cell_type": "code",
   "execution_count": 38,
   "id": "bright-combine",
   "metadata": {},
   "outputs": [
    {
     "data": {
      "text/plain": [
       "(2160, 3840, 3)"
      ]
     },
     "execution_count": 38,
     "metadata": {},
     "output_type": "execute_result"
    }
   ],
   "source": [
    "img_out.shape"
   ]
  },
  {
   "cell_type": "code",
   "execution_count": 39,
   "id": "heard-cemetery",
   "metadata": {},
   "outputs": [
    {
     "data": {
      "text/plain": [
       "(768, 432, 3)"
      ]
     },
     "execution_count": 39,
     "metadata": {},
     "output_type": "execute_result"
    }
   ],
   "source": [
    "cv2.resize(img_out, (int(disp_scale*img_out.shape[0]), int(disp_scale*img_out.shape[1]))).shape"
   ]
  },
  {
   "cell_type": "code",
   "execution_count": null,
   "id": "dutch-editor",
   "metadata": {},
   "outputs": [],
   "source": []
  }
 ],
 "metadata": {
  "kernelspec": {
   "display_name": "Python 3",
   "language": "python",
   "name": "python3"
  },
  "language_info": {
   "codemirror_mode": {
    "name": "ipython",
    "version": 3
   },
   "file_extension": ".py",
   "mimetype": "text/x-python",
   "name": "python",
   "nbconvert_exporter": "python",
   "pygments_lexer": "ipython3",
   "version": "3.8.5"
  }
 },
 "nbformat": 4,
 "nbformat_minor": 5
}
