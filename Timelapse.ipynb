{
 "cells": [
  {
   "cell_type": "code",
   "execution_count": 1,
   "id": "otherwise-leone",
   "metadata": {},
   "outputs": [],
   "source": [
    "import numpy as np\n",
    "import tensorflow as tf\n",
    "import cv2\n",
    "import os\n",
    "import itertools\n",
    "import math\n",
    "from os import listdir\n",
    "from os.path import isfile, join\n",
    "import matplotlib.pyplot as plt"
   ]
  },
  {
   "cell_type": "markdown",
   "id": "least-ceremony",
   "metadata": {},
   "source": [
    "### Enumerate Input Image Files"
   ]
  },
  {
   "cell_type": "code",
   "execution_count": 2,
   "id": "sudden-outreach",
   "metadata": {},
   "outputs": [],
   "source": [
    "base_dir = '/media/MassStorage_WD/inbox/'\n",
    "capture_dir = 'timelapse_test/'\n",
    "path = base_dir + capture_dir\n",
    "fps = 30\n",
    "#skip_mult = 18\n",
    "mean_mult = 60\n",
    "# Limit to cut night off at\n",
    "min_img_mean = 10\n",
    "\n",
    "frame_files = [f for f in listdir(path) if isfile(join(path, f))]\n",
    "frame_files.sort()"
   ]
  },
  {
   "cell_type": "markdown",
   "id": "provincial-equality",
   "metadata": {},
   "source": [
    "### Make a graph of change over time"
   ]
  },
  {
   "cell_type": "code",
   "execution_count": 55,
   "id": "studied-construction",
   "metadata": {},
   "outputs": [
    {
     "name": "stdout",
     "output_type": "stream",
     "text": [
      "0.99989486963835156556\r"
     ]
    }
   ],
   "source": [
    "diffs = []\n",
    "diffs_smooth = []\n",
    "diff_smooth = None\n",
    "alpha = 0.25\n",
    "img_last = None\n",
    "\n",
    "for idx,file in enumerate(frame_files):\n",
    "    filepath = path + file\n",
    "    print(idx/len(frame_files), end='\\r')\n",
    "    img = cv2.imread(filepath).astype(np.float32)/255.0\n",
    "    img = cv2.resize(img, (1080, 1920))\n",
    "    if(img_last is not None):\n",
    "        diffs += [np.sum(np.abs(img_last - img))]\n",
    "        if(diff_smooth is None):\n",
    "            diff_smooth = diffs[-1] \n",
    "        diff_smooth = diff_smooth*(1-alpha) + diffs[-1]*(alpha)\n",
    "        diffs_smooth += [diff_smooth]\n",
    "        \n",
    "    img_last = img"
   ]
  },
  {
   "cell_type": "code",
   "execution_count": 120,
   "id": "thick-gilbert",
   "metadata": {},
   "outputs": [
    {
     "name": "stdout",
     "output_type": "stream",
     "text": [
      "35234.1798828125 (9501,)\n"
     ]
    },
    {
     "data": {
      "image/png": "[encoded data removed]",
      "text/plain": [
       "<Figure size 432x288 with 1 Axes>"
      ]
     },
     "metadata": {
      "needs_background": "light"
     },
     "output_type": "display_data"
    }
   ],
   "source": [
    "diffs = np.array(diffs)\n",
    "# Generate the speed stats\n",
    "vel_mean = np.mean(diffs)\n",
    "vel_std = np.std(diffs)\n",
    "\n",
    "dist_norm = (np.array(diffs)-vel_mean)/vel_std\n",
    "\n",
    "outlier_prop = 0.1\n",
    "\n",
    "outlier_limit = np.percentile(diffs, outlier_prop)\n",
    "\n",
    "diffs_clean = diffs[diffs > outlier_limit]\n",
    "\n",
    "print(outlier_limit, diffs_clean.shape)\n",
    "\n",
    "#plt.plot(np.array(diffs))\n",
    "#plt.plot(np.array(diffs_smooth))\n",
    "plt.plot(diffs_clean)\n",
    "plt.show()"
   ]
  },
  {
   "cell_type": "code",
   "execution_count": null,
   "id": "perceived-slovakia",
   "metadata": {},
   "outputs": [],
   "source": []
  },
  {
   "cell_type": "code",
   "execution_count": null,
   "id": "ordered-compression",
   "metadata": {},
   "outputs": [],
   "source": []
  },
  {
   "cell_type": "code",
   "execution_count": 5,
   "id": "registered-transport",
   "metadata": {},
   "outputs": [
    {
     "ename": "KeyboardInterrupt",
     "evalue": "",
     "output_type": "error",
     "traceback": [
      "\u001b[0;31m---------------------------------------------------------------------------\u001b[0m",
      "\u001b[0;31mKeyboardInterrupt\u001b[0m                         Traceback (most recent call last)",
      "\u001b[0;32m<ipython-input-5-cd22f3e0c4a0>\u001b[0m in \u001b[0;36m<module>\u001b[0;34m\u001b[0m\n\u001b[1;32m      4\u001b[0m     \u001b[0mfilepath\u001b[0m \u001b[0;34m=\u001b[0m \u001b[0mpath\u001b[0m \u001b[0;34m+\u001b[0m \u001b[0mfile\u001b[0m\u001b[0;34m\u001b[0m\u001b[0;34m\u001b[0m\u001b[0m\n\u001b[1;32m      5\u001b[0m \u001b[0;34m\u001b[0m\u001b[0m\n\u001b[0;32m----> 6\u001b[0;31m     \u001b[0mimg\u001b[0m \u001b[0;34m=\u001b[0m \u001b[0mcv2\u001b[0m\u001b[0;34m.\u001b[0m\u001b[0mimread\u001b[0m\u001b[0;34m(\u001b[0m\u001b[0mfilepath\u001b[0m\u001b[0;34m)\u001b[0m\u001b[0;34m.\u001b[0m\u001b[0mastype\u001b[0m\u001b[0;34m(\u001b[0m\u001b[0mnp\u001b[0m\u001b[0;34m.\u001b[0m\u001b[0mfloat32\u001b[0m\u001b[0;34m)\u001b[0m\u001b[0;34m/\u001b[0m\u001b[0;36m255.0\u001b[0m\u001b[0;34m\u001b[0m\u001b[0;34m\u001b[0m\u001b[0m\n\u001b[0m\u001b[1;32m      7\u001b[0m     \u001b[0;31m# Add to buffer\u001b[0m\u001b[0;34m\u001b[0m\u001b[0;34m\u001b[0m\u001b[0;34m\u001b[0m\u001b[0m\n\u001b[1;32m      8\u001b[0m     \u001b[0;31m#img = tf.image.resize(img, (1080, 1920))\u001b[0m\u001b[0;34m\u001b[0m\u001b[0;34m\u001b[0m\u001b[0;34m\u001b[0m\u001b[0m\n",
      "\u001b[0;31mKeyboardInterrupt\u001b[0m: "
     ]
    }
   ],
   "source": [
    "# Play the video back in real time\n",
    "\n",
    "for idx,file in enumerate(frame_files):\n",
    "    filepath = path + file\n",
    "    \n",
    "    img = cv2.imread(filepath).astype(np.float32)/255.0\n",
    "    # Add to buffer\n",
    "    #img = tf.image.resize(img, (1080, 1920))\n",
    "    img = tf.image.resize(img, (640, 720))\n",
    "    \n",
    "    cv2.imshow('frame', img.numpy())\n",
    "    cv2.waitKey(1)"
   ]
  },
  {
   "cell_type": "code",
   "execution_count": 72,
   "id": "juvenile-color",
   "metadata": {},
   "outputs": [
    {
     "name": "stdout",
     "output_type": "stream",
     "text": [
      "50401.688 62864.61\n"
     ]
    },
    {
     "data": {
      "image/png": "[encoded data removed]",
      "text/plain": [
       "<Figure size 432x288 with 1 Axes>"
      ]
     },
     "metadata": {
      "needs_background": "light"
     },
     "output_type": "display_data"
    }
   ],
   "source": [
    "\n",
    "print(vel_mean, vel_std)\n",
    "# Maximum frames squashed into 1 (speedup)\n",
    "max_vel_scaling = 10\n",
    "# Minimum speed \n",
    "min_vel_scaling = 1\n",
    "\n",
    "plt.yscale('log')\n",
    "#plt.hist(np.array(diffs), bins=100)\n",
    "#plt.hist(np.array(diffs_smooth), bins=50)\n",
    "plt.hist(np.array(dist_norm), bins=100)\n",
    "\n",
    "plt.show()"
   ]
  },
  {
   "cell_type": "code",
   "execution_count": 73,
   "id": "comic-teach",
   "metadata": {},
   "outputs": [],
   "source": []
  },
  {
   "cell_type": "code",
   "execution_count": 93,
   "id": "trained-blackberry",
   "metadata": {},
   "outputs": [
    {
     "name": "stdout",
     "output_type": "stream",
     "text": [
      "99.98948696383516 %%%%\r"
     ]
    },
    {
     "ename": "IndexError",
     "evalue": "list index out of range",
     "output_type": "error",
     "traceback": [
      "\u001b[0;31m---------------------------------------------------------------------------\u001b[0m",
      "\u001b[0;31mIndexError\u001b[0m                                Traceback (most recent call last)",
      "\u001b[0;32m<ipython-input-93-4ff240d4627c>\u001b[0m in \u001b[0;36m<module>\u001b[0;34m\u001b[0m\n\u001b[1;32m     26\u001b[0m         \u001b[0mcrop_factor\u001b[0m \u001b[0;34m=\u001b[0m \u001b[0mcalc_crop_factor\u001b[0m\u001b[0;34m(\u001b[0m\u001b[0midx\u001b[0m\u001b[0;34m,\u001b[0m \u001b[0mlen\u001b[0m\u001b[0;34m(\u001b[0m\u001b[0mframe_files\u001b[0m\u001b[0;34m)\u001b[0m\u001b[0;34m)\u001b[0m\u001b[0;34m\u001b[0m\u001b[0;34m\u001b[0m\u001b[0m\n\u001b[1;32m     27\u001b[0m \u001b[0;34m\u001b[0m\u001b[0m\n\u001b[0;32m---> 28\u001b[0;31m     \u001b[0mvelocity\u001b[0m \u001b[0;34m=\u001b[0m \u001b[0mdiffs\u001b[0m\u001b[0;34m[\u001b[0m\u001b[0midx\u001b[0m\u001b[0;34m]\u001b[0m\u001b[0;34m\u001b[0m\u001b[0;34m\u001b[0m\u001b[0m\n\u001b[0m\u001b[1;32m     29\u001b[0m \u001b[0;34m\u001b[0m\u001b[0m\n\u001b[1;32m     30\u001b[0m     \u001b[0;31m# Read the image file\u001b[0m\u001b[0;34m\u001b[0m\u001b[0;34m\u001b[0m\u001b[0;34m\u001b[0m\u001b[0m\n",
      "\u001b[0;31mIndexError\u001b[0m: list index out of range"
     ]
    }
   ],
   "source": [
    "fps = 24\n",
    "frame_0 = cv2.imread(path+frame_files[0])\n",
    "#frame_width = int(frame_0.shape[1])\n",
    "#frame_height = int(frame_0.shape[0])\n",
    "frame_width = int(1920)\n",
    "frame_height = int(1080)\n",
    "out = cv2.VideoWriter(path+'timelapse.avi', \n",
    "                      cv2.VideoWriter_fourcc('M','J','P','G'), \n",
    "                      fps, \n",
    "                      (frame_width,frame_height))\n",
    "\n",
    "# Generate video w/ zoom and dynamic time\n",
    "init_crop_scale = 1.0\n",
    "fin_crop_scale  = 0.5\n",
    "\n",
    "buff_len = 10\n",
    "mean_buff = []\n",
    "\n",
    "def calc_crop_factor(idx, count):\n",
    "    return (init_crop_scale-fin_crop_scale)*idx/count+fin_crop_scale\n",
    "\n",
    "for idx,file in enumerate(frame_files):\n",
    "    print(100*idx/len(frame_files), '%', end='\\r')\n",
    "    \n",
    "    if(idx == 0):\n",
    "        crop_factor = calc_crop_factor(idx, len(frame_files))\n",
    "        \n",
    "    try: \n",
    "        velocity = diffs[idx]\n",
    "    except: \n",
    "        pass\n",
    "\n",
    "    # Read the image file\n",
    "    filepath = path + file\n",
    "    img = cv2.imread(filepath).astype(np.float32)/255.0\n",
    "    # Crop it and resize\n",
    "    img = tf.image.central_crop(img, crop_factor)\n",
    "\n",
    "    # Resize to display dimensions\n",
    "    img = tf.image.resize(img, (frame_height, frame_width))\n",
    "    \n",
    "    mean_buff += [img]\n",
    "    \n",
    "    if(len(mean_buff) > buff_len):\n",
    "        img_out = tf.reduce_mean(tf.stack(mean_buff, axis=0), axis=0)\n",
    "        img_out = (img_out*255.0).numpy().astype(np.uint8)\n",
    "\n",
    "        out.write(img_out)\n",
    "        # Recalc crop_factor\n",
    "        crop_factor = calc_crop_factor(idx, len(frame_files))\n",
    "        # Display\n",
    "        cv2.imshow('frame', img_out)\n",
    "        cv2.waitKey(1)\n",
    "        \n",
    "        mean_buff = []\n",
    "\n",
    "out.release()"
   ]
  },
  {
   "cell_type": "code",
   "execution_count": 94,
   "id": "oriental-borough",
   "metadata": {},
   "outputs": [],
   "source": [
    "out.release()"
   ]
  },
  {
   "cell_type": "code",
   "execution_count": 19,
   "id": "digital-military",
   "metadata": {},
   "outputs": [],
   "source": [
    "import datetime\n",
    "def calc_duration(fps, num_frames):\n",
    "    dur_secs = num_frames/fps\n",
    "    res = datetime.timedelta(seconds =dur_secs)\n",
    "    print(res)"
   ]
  },
  {
   "cell_type": "code",
   "execution_count": 22,
   "id": "nominated-payday",
   "metadata": {},
   "outputs": [
    {
     "name": "stdout",
     "output_type": "stream",
     "text": [
      "0:05:17.066667\n"
     ]
    }
   ],
   "source": [
    "calc_duration(30, len(frame_files))"
   ]
  },
  {
   "cell_type": "code",
   "execution_count": 23,
   "id": "guilty-animal",
   "metadata": {},
   "outputs": [
    {
     "ename": "NameError",
     "evalue": "name 'diffs' is not defined",
     "output_type": "error",
     "traceback": [
      "\u001b[0;31m---------------------------------------------------------------------------\u001b[0m",
      "\u001b[0;31mNameError\u001b[0m                                 Traceback (most recent call last)",
      "\u001b[0;32m<ipython-input-23-539c1829aed0>\u001b[0m in \u001b[0;36m<module>\u001b[0;34m\u001b[0m\n\u001b[0;32m----> 1\u001b[0;31m \u001b[0mdiffs\u001b[0m\u001b[0;34m\u001b[0m\u001b[0;34m\u001b[0m\u001b[0m\n\u001b[0m",
      "\u001b[0;31mNameError\u001b[0m: name 'diffs' is not defined"
     ]
    }
   ],
   "source": [
    "diffs"
   ]
  },
  {
   "cell_type": "code",
   "execution_count": null,
   "id": "informational-buddy",
   "metadata": {},
   "outputs": [],
   "source": [
    "# https://shotkit.com/f-stop-chart/\n",
    "def estimate_lux(img, shutter_speed, iso, fstop):\n",
    "    base_iso = 100\n",
    "    img_sum = tf.reduce_sum(img)\n",
    "    \n",
    "    shutter_speed*img_sum/iso\n",
    "    "
   ]
  },
  {
   "cell_type": "code",
   "execution_count": null,
   "id": "bright-combine",
   "metadata": {},
   "outputs": [],
   "source": []
  }
 ],
 "metadata": {
  "kernelspec": {
   "display_name": "Python 3",
   "language": "python",
   "name": "python3"
  },
  "language_info": {
   "codemirror_mode": {
    "name": "ipython",
    "version": 3
   },
   "file_extension": ".py",
   "mimetype": "text/x-python",
   "name": "python",
   "nbconvert_exporter": "python",
   "pygments_lexer": "ipython3",
   "version": "3.8.5"
  }
 },
 "nbformat": 4,
 "nbformat_minor": 5
}
